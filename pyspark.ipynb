{
 "cells": [
  {
   "cell_type": "code",
   "execution_count": null,
   "id": "c9e537d5-4e4d-4e7a-9030-82f02f77c640",
   "metadata": {},
   "outputs": [],
   "source": []
  }
 ],
 "metadata": {
  "kernelspec": {
   "display_name": "",
   "name": ""
  },
  "language_info": {
   "name": ""
  }
 },
 "nbformat": 4,
 "nbformat_minor": 5
}
